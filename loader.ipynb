{
 "cells": [
  {
   "cell_type": "code",
   "execution_count": 0,
   "metadata": {
    "application/vnd.databricks.v1+cell": {
     "cellMetadata": {
      "byteLimit": 2048000,
      "rowLimit": 10000
     },
     "inputWidgets": {},
     "nuid": "ee209669-1e0c-42e0-bf72-d72ff0707cf2",
     "showTitle": false,
     "tableResultSettingsMap": {},
     "title": ""
    }
   },
   "outputs": [],
   "source": [
    "%run \"./Loader_factory\""
   ]
  },
  {
   "cell_type": "code",
   "execution_count": 0,
   "metadata": {
    "application/vnd.databricks.v1+cell": {
     "cellMetadata": {
      "byteLimit": 2048000,
      "rowLimit": 10000
     },
     "inputWidgets": {},
     "nuid": "efef4572-b466-45fd-97df-ccaac902064d",
     "showTitle": false,
     "tableResultSettingsMap": {},
     "title": ""
    }
   },
   "outputs": [],
   "source": [
    "class AbstractLoader:\n",
    "    def __init__(self, transformedDF):\n",
    "        self.transformedDF = transformedDF\n",
    "\n",
    "    def sink(self):\n",
    "        pass\n",
    "\n",
    "\n",
    "class AirPodsAfterIphoneLoader(AbstractLoader):\n",
    "    def sink(self):\n",
    "        get_sink_source(\n",
    "            sink_type=\"dbfs\",\n",
    "            df=self.transformedDF,\n",
    "            path=\"dbfs:/FileStore/tables/AirPodsData\",  \n",
    "            method=\"overwrite\"\n",
    "        ).load_data_frame()\n",
    "\n",
    "\n",
    "class OnlyAirpodsAndIphoneLoader(AbstractLoader):\n",
    "    def sink(self):\n",
    "        params={\n",
    "            \"partitionByColumns\":[\"location\"]\n",
    "        }\n",
    "        get_sink_source(\n",
    "            sink_type=\"dbfs_with_partition\",\n",
    "            df=self.transformedDF,\n",
    "            path=\"dbfs:/FileStore/tables/airpodsOnlyIphone\",  \n",
    "            method=\"overwrite\",\n",
    "            params=params\n",
    "        ).load_data_frame()\n",
    "\n",
    "        get_sink_source(\n",
    "            sink_type=\"delta\",\n",
    "            df=self.transformedDF,\n",
    "            path=\"default.OnlyAirPodsAndIphone\",  \n",
    "            method=\"overwrite\",\n",
    "        ).load_data_frame()\n",
    "\n"
   ]
  }
 ],
 "metadata": {
  "application/vnd.databricks.v1+notebook": {
   "computePreferences": null,
   "dashboards": [],
   "environmentMetadata": {
    "base_environment": "",
    "client": "1"
   },
   "language": "python",
   "notebookMetadata": {
    "pythonIndentUnit": 4
   },
   "notebookName": "loader",
   "widgets": {}
  }
 },
 "nbformat": 4,
 "nbformat_minor": 0
}
