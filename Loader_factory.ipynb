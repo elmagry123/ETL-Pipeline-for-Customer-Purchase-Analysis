{
 "cells": [
  {
   "cell_type": "code",
   "execution_count": 0,
   "metadata": {
    "application/vnd.databricks.v1+cell": {
     "cellMetadata": {
      "byteLimit": 2048000,
      "rowLimit": 10000
     },
     "inputWidgets": {},
     "nuid": "78144754-e6e8-434d-b6c6-034c8f531cfb",
     "showTitle": false,
     "tableResultSettingsMap": {},
     "title": ""
    }
   },
   "outputs": [],
   "source": [
    "class DataSink:\n",
    "    \"\"\" \n",
    "    Abstract Class\n",
    "    \"\"\"\n",
    "\n",
    "    def __init__(self, path, method, df, params=None):\n",
    "        self.df = df\n",
    "        self.path = path\n",
    "        self.method = method\n",
    "        self.params = params\n",
    "\n",
    "    def load_data_frame(self):\n",
    "        \"\"\"\n",
    "        Abstract method, Function will be defined in sub-classes \n",
    "        \"\"\"\n",
    "        raise ValueError(\"Not Implemented\")\n",
    "\n",
    "\n",
    "class LoadToDBFS(DataSink):\n",
    "    def load_data_frame(self):\n",
    "        self.df.write.mode(self.method).save(self.path)\n",
    "\n",
    "\n",
    "class LoadToDBFSWithPartition(DataSink):\n",
    "    def load_data_frame(self):\n",
    "        partitionByColumns = self.params.get(\"partitionByColumns\")\n",
    "        self.df.write.mode(self.method).partitionBy(*partitionByColumns).save(self.path)\n",
    "\n",
    "class LoadToDeltaTable(DataSink):\n",
    "    def load_data_frame(self):\n",
    "        self.df.write.format(\"delta\").mode(self.method).saveAsTable(self.path)    \n",
    "\n",
    "\n",
    "def get_sink_source(sink_type, path, method, df, params=None):\n",
    "    if sink_type == \"dbfs\":\n",
    "        return LoadToDBFS(path, method, df, params)\n",
    "    elif sink_type == \"dbfs_with_partition\":\n",
    "        return LoadToDBFSWithPartition(path, method, df, params)\n",
    "    elif sink_type == \"delta\":\n",
    "        return LoadToDeltaTable(path, method, df, params)\n",
    "    else:\n",
    "        raise ValueError(f\"Not implemented for sink type {sink_type}\")\n"
   ]
  }
 ],
 "metadata": {
  "application/vnd.databricks.v1+notebook": {
   "computePreferences": null,
   "dashboards": [],
   "environmentMetadata": {
    "base_environment": "",
    "client": "1"
   },
   "language": "python",
   "notebookMetadata": {
    "pythonIndentUnit": 4
   },
   "notebookName": "Loader_factory",
   "widgets": {}
  }
 },
 "nbformat": 4,
 "nbformat_minor": 0
}
